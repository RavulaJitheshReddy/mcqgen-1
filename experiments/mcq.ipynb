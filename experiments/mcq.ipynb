{
 "cells": [
  {
   "cell_type": "code",
   "execution_count": 33,
   "metadata": {},
   "outputs": [],
   "source": [
    "import os\n",
    "import json\n",
    "import pandas as pd \n",
    "import traceback"
   ]
  },
  {
   "cell_type": "code",
   "execution_count": 34,
   "metadata": {},
   "outputs": [],
   "source": [
    "from langchain_openai import ChatOpenAI"
   ]
  },
  {
   "cell_type": "code",
   "execution_count": 35,
   "metadata": {},
   "outputs": [],
   "source": [
    "from langchain_community.chat_models import ChatOpenAI"
   ]
  },
  {
   "cell_type": "code",
   "execution_count": 36,
   "metadata": {},
   "outputs": [
    {
     "data": {
      "text/plain": [
       "True"
      ]
     },
     "execution_count": 36,
     "metadata": {},
     "output_type": "execute_result"
    }
   ],
   "source": [
    "from dotenv import load_dotenv\n",
    "\n",
    "load_dotenv() "
   ]
  },
  {
   "cell_type": "code",
   "execution_count": 37,
   "metadata": {},
   "outputs": [],
   "source": [
    "KEY=os.getenv(\"OPENAI_API_KEY\")"
   ]
  },
  {
   "cell_type": "code",
   "execution_count": 38,
   "metadata": {},
   "outputs": [],
   "source": [
    "llm= ChatOpenAI(openai_api_key=KEY,model_name= \"gpt-3.5-turbo\",temperature=0.3)"
   ]
  },
  {
   "cell_type": "code",
   "execution_count": 39,
   "metadata": {},
   "outputs": [],
   "source": [
    "from langchain.llms import OpenAI\n",
    "from langchain.prompts import PromptTemplate\n",
    "from langchain.chains import LLMChain\n",
    "from langchain.chains import SequentialChain\n",
    "from langchain.callbacks import get_openai_callback\n",
    "import PyPDF2"
   ]
  },
  {
   "cell_type": "code",
   "execution_count": 44,
   "metadata": {},
   "outputs": [],
   "source": [
    "RESPONSE_JSON = {\n",
    "    \"1\": {\n",
    "        \"mcq\": \"multiple choice question\",\n",
    "        \"options\": {\n",
    "            \"a\": \"choice here\",\n",
    "            \"b\": \"choice here\",\n",
    "            \"c\": \"choice here\",\n",
    "            \"d\": \"choice here\",\n",
    "        },\n",
    "        \"correct\": \"correct answer\",\n",
    "    },\n",
    "    \"2\": {\n",
    "        \"mcq\": \"multiple choice question\",\n",
    "        \"options\": {\n",
    "            \"a\": \"choice here\",\n",
    "            \"b\": \"choice here\",\n",
    "            \"c\": \"choice here\",\n",
    "            \"d\": \"choice here\",\n",
    "        },\n",
    "        \"correct\": \"correct answer\",\n",
    "    },\n",
    "    \"3\": {\n",
    "        \"mcq\": \"multiple choice question\",\n",
    "        \"options\": {\n",
    "            \"a\": \"choice here\",\n",
    "            \"b\": \"choice here\",\n",
    "            \"c\": \"choice here\",\n",
    "            \"d\": \"choice here\",\n",
    "        },\n",
    "        \"correct\": \"correct answer\",\n",
    "    },\n",
    "}"
   ]
  },
  {
   "cell_type": "code",
   "execution_count": 45,
   "metadata": {},
   "outputs": [],
   "source": [
    "TEMPLATE=\"\"\"\n",
    "Text:{text}\n",
    "You are an expert MCQ maker. Given the above text, it is your job to \\\n",
    "create a quiz  of {number} multiple choice questions for {subject} students in {tone} tone. \n",
    "Make sure the questions are not repeated and check all the questions to be conforming the text as well.\n",
    "Make sure to format your response like  RESPONSE_JSON below  and use it as a guide. \\\n",
    "Ensure to make {number} MCQs\n",
    "### RESPONSE_JSON\n",
    "{response_json}\n",
    "\n",
    "\"\"\""
   ]
  },
  {
   "cell_type": "code",
   "execution_count": 46,
   "metadata": {},
   "outputs": [],
   "source": [
    "quiz_generation_prompt = PromptTemplate(\n",
    "    input_variables=[\"text\", \"number\", \"subject\", \"tone\", \"response_json\"],\n",
    "    template=TEMPLATE\n",
    "    )"
   ]
  },
  {
   "cell_type": "code",
   "execution_count": 47,
   "metadata": {},
   "outputs": [],
   "source": [
    "quiz_chain=LLMChain(llm=llm, prompt=quiz_generation_prompt, output_key=\"quiz\", verbose=True)"
   ]
  },
  {
   "cell_type": "code",
   "execution_count": 48,
   "metadata": {},
   "outputs": [],
   "source": [
    "TEMPLATE2=\"\"\"\n",
    "You are an expert english grammarian and writer. Given a Multiple Choice Quiz for {subject} students.\\\n",
    "You need to evaluate the complexity of the question and give a complete analysis of the quiz. Only use at max 50 words for complexity analysis. \n",
    "if the quiz is not at per with the cognitive and analytical abilities of the students,\\\n",
    "update the quiz questions which needs to be changed and change the tone such that it perfectly fits the student abilities\n",
    "Quiz_MCQs:\n",
    "{quiz}\n",
    "\n",
    "Check from an expert English Writer of the above quiz:\n",
    "\"\"\""
   ]
  },
  {
   "cell_type": "code",
   "execution_count": 49,
   "metadata": {},
   "outputs": [],
   "source": [
    "quiz_evaluation_prompt=PromptTemplate(input_variables=[\"subject\", \"quiz\"], template=TEMPLATE2)"
   ]
  },
  {
   "cell_type": "code",
   "execution_count": 50,
   "metadata": {},
   "outputs": [],
   "source": [
    "review_chain=LLMChain(llm=llm, prompt=quiz_evaluation_prompt, output_key=\"review\", verbose=True)"
   ]
  },
  {
   "cell_type": "code",
   "execution_count": 51,
   "metadata": {},
   "outputs": [],
   "source": [
    "generate_evaluate_chain=SequentialChain(chains=[quiz_chain, review_chain], input_variables=[\"text\", \"number\", \"subject\", \"tone\", \"response_json\"],\n",
    "                                        output_variables=[\"quiz\", \"review\"], verbose=True,)"
   ]
  },
  {
   "cell_type": "code",
   "execution_count": 52,
   "metadata": {},
   "outputs": [],
   "source": [
    "file_path= r\"C:\\Users\\Jitheshreddy\\mcqgen\\data.txt\""
   ]
  },
  {
   "cell_type": "code",
   "execution_count": 53,
   "metadata": {},
   "outputs": [
    {
     "data": {
      "text/plain": [
       "'C:\\\\Users\\\\Jitheshreddy\\\\mcqgen\\\\data.txt'"
      ]
     },
     "execution_count": 53,
     "metadata": {},
     "output_type": "execute_result"
    }
   ],
   "source": [
    "file_path"
   ]
  },
  {
   "cell_type": "code",
   "execution_count": 54,
   "metadata": {},
   "outputs": [],
   "source": [
    "with open(file_path, 'r', encoding='utf-8') as file:\n",
    "    TEXT = file.read()\n"
   ]
  },
  {
   "cell_type": "code",
   "execution_count": 55,
   "metadata": {},
   "outputs": [
    {
     "name": "stdout",
     "output_type": "stream",
     "text": [
      "MKK\n",
      "Unit 3\n",
      "COMPUTER-BASED \n",
      "ASYMMETRIC-KEY CRYPTOGRAPHY \n",
      "ALGORITHMS\n",
      "MKK\n",
      "INTRODUCTION\n",
      "• Symmetric-key cryptography is fast and efficient. \n",
      "• However, it suffers from a big disadvantage of the problem of key exchange. \n",
      "• The sender and the receiver of an encrypted message use the same key in \n",
      "symmetric-key cryptography, and it is very tough to agree upon a common key \n",
      "without letting anyone else know about it. \n",
      "• Asymmetric-key cryptography solves this problem. Here, each communicating party \n",
      "uses two keys to form a key pair—one key (the private key) remains with the party, \n",
      "and the other key (the public key) is shared with everybody.\n",
      "MKK\n",
      "BRIEF HISTORY OF ASYMMETRIC-KEY CRYPTOGRAPHY\n",
      "In the mid-1970s, Whitfield Diffie, a student at the Stanford University met with Martin Hellman,\n",
      "his professor, and the two began to think about the problem of key exchange. After some research\n",
      "and complicated mathematical analysis, they came up with the idea of asymmetric-key cryptography.\n",
      "Many experts believe that this development is the first—and perhaps the only—truly revolutionary\n",
      "concept in the history of cryptography. Diffie and Hellman can, therefore, be regarded as the fathers of\n",
      "asymmetric-key cryptography\n",
      "However, there is a lot of debate regarding who should get the credit for developing asymmetric-key\n",
      "cryptography. It is believed that James Ellis of the British Communications Electronic Security Group\n",
      "(CSEG) proposed the idea of asymmetric-key cryptography in the 1960s. His ideas were based on an\n",
      "anonymous paper written at the Bell Labs during the Second World War. However, Ellis could not \n",
      "devise a practical algorithm based on his ideas.\n",
      "Simultaneously, the US National Security Agency (NSA) was also working on asymmetric-key \n",
      "cryptography. It is believed that the NSA system based on the asymmetric-key cryptography was \n",
      "operational in the mid-1970s.\n",
      "MKK\n",
      "Based on the theoretical framework of Diffie and Hellman, in 1977, Ron Rivest, Adi Shamir and Len\n",
      "Adleman at MIT developed the first major asymmetric-key cryptography system, and published their\n",
      "results in 1978. This method is called RSA algorithm.\n",
      "Even today, RSA is the most widely accepted public-key solution. It solves the problem of key \n",
      "agreements and distribution.\n",
      "To communicate securely over any network, all one needs to do is to publish one’s public key. All these\n",
      "public keys can then be stored in a database that anyone can consult. However, the private key only\n",
      "remains with the respective individuals.\n",
      "MKK\n",
      "AN OVERVIEW OF ASYMMETRIC-KEY CRYPTOGRAPHY\n",
      "• In asymmetric-key cryptography, also called public key cryptography, two different keys (which form \n",
      "a key pair) are used. One key is used for encryption and only the other corresponding key must be \n",
      "used for decryption. No other key can decrypt the message—not even the original (i.e. the first) key \n",
      "used for encryption! The beauty of this scheme is that every communicating party needs just a key \n",
      "pair for communicating with any number of other communicating parties.\n",
      "• One of the two keys is called the public key and the other is the private key.\n",
      "• The private key remains with you as a secret. You must not disclose your private key to anybody. \n",
      "However, the public key is for the general public. It is disclosed to all parties that you want to \n",
      "communicate with.\n",
      "MKK\n",
      "• Suppose A wants to send a message to B without having to worry about its security. \n",
      "• Then, A and B should each have a private key and a public key.\n",
      "● A should keep her private key secret.\n",
      "● B should keep her private key secret.\n",
      "● A should inform B about her public key.\n",
      "● B should inform A about her public key.\n",
      "• Thus, we have a matrix as shown in Fig\n",
      "• Key details A should know B should know\n",
      "MKK\n",
      "Armed with this knowledge, asymmetric-key cryptography works as follows:\n",
      "1. When A wants to send a message to B, A encrypts the message using B’s public key. This is\n",
      "possible because A knows B’s public key.\n",
      "2. A sends this message (which was encrypted with B’s public key) to B.\n",
      "3. B decrypts A’s message using B’s private key.\n",
      "Thus, no one else can make any sense out of the message even if one can manage to intercept \n",
      "the message. This is because the intruder (ideally) does not know about B’s private key. It is only B’s \n",
      "private key that can decrypt the message.\n",
      "MKK\n",
      "Example:\n",
      "We can consider a practical situation that describes asymmetric-key cryptography as used in real life.\n",
      "Suppose a bank accepts many requests for transactions from its customers over an insecure network.\n",
      "The bank can have a private-key–public key pair.\n",
      "Use of a public-key–private-key pair by a bank\n",
      "MKK\n",
      "The RSA Algorithm\n",
      "RSA algorithm is an asymmetric cryptography algorithm. Asymmetric actually means that it works on \n",
      "two different keys i.e. Public Key and Private Key. As the name describes that the Public Key is given to \n",
      "everyone and the Private key is kept private.\n",
      "• The RSA algorithm is based on the mathematical fact that it is easy to find and multiply large prime \n",
      "numbers together, but it is extremely difficult to factor their product. The private and public keys in \n",
      "RSA are based on very large (made up of 100 or more digits) prime numbers.\n",
      "• However, the real challenge in the case of RSA is the selection and generation of the public and \n",
      "private keys.\n",
      "• Let us now understand how the public and private keys are generated, and using them, how we can \n",
      "perform encryption and decryption in RSA.\n",
      "MKK\n",
      "The RSA algorithm\n",
      "MKK\n",
      "Examples of RSA\n",
      "Let us choose D as 77, because we can see \n",
      "that (5 * 77) mod 96 = 385 mod 96 = 1, \n",
      "which satisfies our condition.\n",
      "MKK\n",
      "• Now, based on these values, let us consider an encryption and decryption process. \n",
      "• Here, A is the sender and B is the receiver. As we can see, here we use an encoding scheme of \n",
      "encoding alphabets as A = 1, B = 2, …, Z = 26. \n",
      "• Let us assume that we want to encrypt a single alphabet F using this scheme, and with B’s public \n",
      "key as 77 (known to A and B) and B’s private key (known only to B) as 5. \n",
      "• Then the description is as follows\n",
      "MKK\n",
      "MKK\n",
      "SYMMETRIC- AND ASYMMETRIC-KEY CRYPTOGRAPHY\n",
      "• Comparison Between Symmetric- and Asymmetric-Key Cryptography\n",
      "MKK\n",
      "The Best of Both Worlds\n",
      "How economic it would be, if we can combine the two cryptography mechanisms, so as to achieve\n",
      "the better of the two, and yet do not compromise on any of the features! More specifically, we need \n",
      "to ensure that the following objectives are met:\n",
      "1. The solution should be completely secure.\n",
      "2. The encryption and decryption processes must not take a long time.\n",
      "3. The generated cipher text should be compact in size.\n",
      "4. The solution should scale to a large number of users easily, without introducing any additional\n",
      "complications.\n",
      "5. The key-distribution problem must be solved by the solution.\n",
      "MKK\n",
      "Digital Signatures \n",
      "• Digital signatures are the public-key primitives of message authentication. Digital signature is a \n",
      "technique that binds a person/entity to the digital data.\n",
      "• As we know in asymmetric-key cryptography:\n",
      "– “If A is the sender of a message and B is the receiver, A encrypts the message with B’s public key and sends the \n",
      "encrypted message to B.”\n",
      "• Let us now consider another scheme, as follows: \n",
      "– If A is the sender of a message and B is the receiver, A encrypts the message with A’s private key and sends the \n",
      "encrypted message to B.\n",
      "MKK\n",
      "• Here B use A’s public key to decrypt it, and therefore, access the plain text. \n",
      "• If the decryption is successful, it assures B that this message was indeed sent by A. This is because if \n",
      "B can decrypt a message with A’s public key, it means that the message must have been initially \n",
      "encrypted with A’s private key\n",
      "• Therefore, someone posing as A (say C) could not have sent a message encrypted with A’s private \n",
      "key to B.\n",
      "• Moreover, in the case of a dispute of non-repudiation\n",
      "MKK\n",
      "• Digital signatures have assumed great significance in the modern world of Web commerce. \n",
      "• Most countries have already made provisions for recognizing a digital signature as a valid \n",
      "authorization mechanism, just like paper-based signatures. \n",
      "• Digital signatures have legal status now. \n",
      "– For example, suppose you send a message to your bank over the Internet, to transfer some amount from \n",
      "your account to your friend’s account, and digitally sign the message, this transaction has the same status \n",
      "as the one wherein you fill in and sign the bank’s paper-based money-transfer slip.\n",
      "MKK\n",
      "KNAPSACK ALGORITHM\n",
      "• Actually, Ralph Merkle and Martin Hellman developed the first algorithm for public-key encryption, \n",
      "called the Knapsack algorithm. It is based on the Knapsack problem. \n",
      "• This is actually a simple problem.\n",
      "• Given a pile of items, each with different weights, is it possible to put some of them in a bag (i.e. \n",
      "knapsack) in such a way that the knapsack has a certain weight?\n",
      "That is, if M1, M2, …, Mn are the given values and S is the sum, \n",
      " find out bi so that:\n",
      "S = b1M1 + b2M2 + … + bnMn\n",
      "• Each bi can be 0 or 1. A 1 indicates that the item is in the knapsack, and a 0 indicates that it is not.\n",
      "• A block of plain text equal in length to the number of items in the pile would select the items in the \n",
      "knapsack. The cipher text is the resulting sum. \n",
      "• For example, if the knapsack is 1, 7, 8, 12, 14, 20 then the plain text and the resulting cipher text is \n",
      "as shown below\n",
      "MKK\n",
      "Knapsack example\n",
      "MKK\n",
      "SOME OTHER ALGORITHMS\n",
      "Elgamal digital signature\n",
      "• The ElGamal digital-signature scheme uses the same keys, but a different algorithm. \n",
      "• The algorithm creates two digital signatures. \n",
      "• In the verification step, these two signatures are tallied. \n",
      "• The key-generation process here is the same as earlier and hence we would not repeat the discussion. The \n",
      "public key remains (E1, E2, P) and the private key continues to be D. \n",
      "Signature\n",
      "• The signature process works as follows:\n",
      "1. The sender selects a random number R.\n",
      "2. The sender computes the first signature S1 using the equation S1 = E1R mod P.\n",
      "3. The sender computes the second signature S2 using the equation S2 = (M – D * S1) * R–1 \n",
      "mod (P – 1), where M is the original message that needs to be signed.\n",
      "4. The sender sends M, S1, and S2 to the receiver.\n",
      "For example, \n",
      "let E1 = 10, E2 = 4, P = 19, M = 14, D = 16, and R = 5.\n",
      "Then we have:\n",
      "Hence, the signature is (S1, S2) i.e. (3, 4). This is sent to the receiver.\n",
      "MKK\n",
      "Verification\n",
      "• The verification process works as follows:\n",
      "• 1. The receiver performs the first part of verification called V1 using the equation V1 = E1M mod P.\n",
      "• 2. The receiver performs the second part of verification called as V2 using the equation V2 = E2S1 * \n",
      "S1S2 mod P.\n",
      "In our example:\n",
      "• Since V1 = V2, the signature is considered valid.\n",
      "MKK\n",
      "Attacks on digital signatures\n",
      "In general, three types of attacks are attempted against digital signatures, as outlined below:\n",
      "1. Chosen-message Attack\n",
      "In the chosen-message attack, the attacker tricks a genuine user into digitally signing messages that\n",
      "the user does not normally intend to sign.\n",
      "2. Known-message Attack\n",
      "In the known-message attack, the attacker obtains the previous few messages and the corresponding\n",
      "digital signatures from a genuine user.\n",
      "3. Key-only Attack\n",
      "In the key-only attack, the assumption is that some information was made public by a genuine user.\n",
      "This attacker now tries to misuse this public information.\n",
      "MKK\n"
     ]
    }
   ],
   "source": [
    "print(TEXT)"
   ]
  },
  {
   "cell_type": "code",
   "execution_count": 56,
   "metadata": {},
   "outputs": [],
   "source": [
    "NUMBER=5 \n",
    "SUBJECT=\"Machine Learning\"\n",
    "TONE=\"simple\""
   ]
  },
  {
   "cell_type": "code",
   "execution_count": 57,
   "metadata": {},
   "outputs": [
    {
     "data": {
      "text/plain": [
       "'{\"1\": {\"mcq\": \"multiple choice question\", \"options\": {\"a\": \"choice here\", \"b\": \"choice here\", \"c\": \"choice here\", \"d\": \"choice here\"}, \"correct\": \"correct answer\"}, \"2\": {\"mcq\": \"multiple choice question\", \"options\": {\"a\": \"choice here\", \"b\": \"choice here\", \"c\": \"choice here\", \"d\": \"choice here\"}, \"correct\": \"correct answer\"}, \"3\": {\"mcq\": \"multiple choice question\", \"options\": {\"a\": \"choice here\", \"b\": \"choice here\", \"c\": \"choice here\", \"d\": \"choice here\"}, \"correct\": \"correct answer\"}}'"
      ]
     },
     "execution_count": 57,
     "metadata": {},
     "output_type": "execute_result"
    }
   ],
   "source": [
    "# Serialize the Python dictionary into a JSON-formatted string\n",
    "json.dumps(RESPONSE_JSON)"
   ]
  },
  {
   "cell_type": "code",
   "execution_count": 58,
   "metadata": {},
   "outputs": [
    {
     "name": "stdout",
     "output_type": "stream",
     "text": [
      "\n",
      "\n",
      "\u001b[1m> Entering new SequentialChain chain...\u001b[0m\n",
      "\n",
      "\n",
      "\u001b[1m> Entering new LLMChain chain...\u001b[0m\n",
      "Prompt after formatting:\n",
      "\u001b[32;1m\u001b[1;3m\n",
      "Text:MKK\n",
      "Unit 3\n",
      "COMPUTER-BASED \n",
      "ASYMMETRIC-KEY CRYPTOGRAPHY \n",
      "ALGORITHMS\n",
      "MKK\n",
      "INTRODUCTION\n",
      "• Symmetric-key cryptography is fast and efficient. \n",
      "• However, it suffers from a big disadvantage of the problem of key exchange. \n",
      "• The sender and the receiver of an encrypted message use the same key in \n",
      "symmetric-key cryptography, and it is very tough to agree upon a common key \n",
      "without letting anyone else know about it. \n",
      "• Asymmetric-key cryptography solves this problem. Here, each communicating party \n",
      "uses two keys to form a key pair—one key (the private key) remains with the party, \n",
      "and the other key (the public key) is shared with everybody.\n",
      "MKK\n",
      "BRIEF HISTORY OF ASYMMETRIC-KEY CRYPTOGRAPHY\n",
      "In the mid-1970s, Whitfield Diffie, a student at the Stanford University met with Martin Hellman,\n",
      "his professor, and the two began to think about the problem of key exchange. After some research\n",
      "and complicated mathematical analysis, they came up with the idea of asymmetric-key cryptography.\n",
      "Many experts believe that this development is the first—and perhaps the only—truly revolutionary\n",
      "concept in the history of cryptography. Diffie and Hellman can, therefore, be regarded as the fathers of\n",
      "asymmetric-key cryptography\n",
      "However, there is a lot of debate regarding who should get the credit for developing asymmetric-key\n",
      "cryptography. It is believed that James Ellis of the British Communications Electronic Security Group\n",
      "(CSEG) proposed the idea of asymmetric-key cryptography in the 1960s. His ideas were based on an\n",
      "anonymous paper written at the Bell Labs during the Second World War. However, Ellis could not \n",
      "devise a practical algorithm based on his ideas.\n",
      "Simultaneously, the US National Security Agency (NSA) was also working on asymmetric-key \n",
      "cryptography. It is believed that the NSA system based on the asymmetric-key cryptography was \n",
      "operational in the mid-1970s.\n",
      "MKK\n",
      "Based on the theoretical framework of Diffie and Hellman, in 1977, Ron Rivest, Adi Shamir and Len\n",
      "Adleman at MIT developed the first major asymmetric-key cryptography system, and published their\n",
      "results in 1978. This method is called RSA algorithm.\n",
      "Even today, RSA is the most widely accepted public-key solution. It solves the problem of key \n",
      "agreements and distribution.\n",
      "To communicate securely over any network, all one needs to do is to publish one’s public key. All these\n",
      "public keys can then be stored in a database that anyone can consult. However, the private key only\n",
      "remains with the respective individuals.\n",
      "MKK\n",
      "AN OVERVIEW OF ASYMMETRIC-KEY CRYPTOGRAPHY\n",
      "• In asymmetric-key cryptography, also called public key cryptography, two different keys (which form \n",
      "a key pair) are used. One key is used for encryption and only the other corresponding key must be \n",
      "used for decryption. No other key can decrypt the message—not even the original (i.e. the first) key \n",
      "used for encryption! The beauty of this scheme is that every communicating party needs just a key \n",
      "pair for communicating with any number of other communicating parties.\n",
      "• One of the two keys is called the public key and the other is the private key.\n",
      "• The private key remains with you as a secret. You must not disclose your private key to anybody. \n",
      "However, the public key is for the general public. It is disclosed to all parties that you want to \n",
      "communicate with.\n",
      "MKK\n",
      "• Suppose A wants to send a message to B without having to worry about its security. \n",
      "• Then, A and B should each have a private key and a public key.\n",
      "● A should keep her private key secret.\n",
      "● B should keep her private key secret.\n",
      "● A should inform B about her public key.\n",
      "● B should inform A about her public key.\n",
      "• Thus, we have a matrix as shown in Fig\n",
      "• Key details A should know B should know\n",
      "MKK\n",
      "Armed with this knowledge, asymmetric-key cryptography works as follows:\n",
      "1. When A wants to send a message to B, A encrypts the message using B’s public key. This is\n",
      "possible because A knows B’s public key.\n",
      "2. A sends this message (which was encrypted with B’s public key) to B.\n",
      "3. B decrypts A’s message using B’s private key.\n",
      "Thus, no one else can make any sense out of the message even if one can manage to intercept \n",
      "the message. This is because the intruder (ideally) does not know about B’s private key. It is only B’s \n",
      "private key that can decrypt the message.\n",
      "MKK\n",
      "Example:\n",
      "We can consider a practical situation that describes asymmetric-key cryptography as used in real life.\n",
      "Suppose a bank accepts many requests for transactions from its customers over an insecure network.\n",
      "The bank can have a private-key–public key pair.\n",
      "Use of a public-key–private-key pair by a bank\n",
      "MKK\n",
      "The RSA Algorithm\n",
      "RSA algorithm is an asymmetric cryptography algorithm. Asymmetric actually means that it works on \n",
      "two different keys i.e. Public Key and Private Key. As the name describes that the Public Key is given to \n",
      "everyone and the Private key is kept private.\n",
      "• The RSA algorithm is based on the mathematical fact that it is easy to find and multiply large prime \n",
      "numbers together, but it is extremely difficult to factor their product. The private and public keys in \n",
      "RSA are based on very large (made up of 100 or more digits) prime numbers.\n",
      "• However, the real challenge in the case of RSA is the selection and generation of the public and \n",
      "private keys.\n",
      "• Let us now understand how the public and private keys are generated, and using them, how we can \n",
      "perform encryption and decryption in RSA.\n",
      "MKK\n",
      "The RSA algorithm\n",
      "MKK\n",
      "Examples of RSA\n",
      "Let us choose D as 77, because we can see \n",
      "that (5 * 77) mod 96 = 385 mod 96 = 1, \n",
      "which satisfies our condition.\n",
      "MKK\n",
      "• Now, based on these values, let us consider an encryption and decryption process. \n",
      "• Here, A is the sender and B is the receiver. As we can see, here we use an encoding scheme of \n",
      "encoding alphabets as A = 1, B = 2, …, Z = 26. \n",
      "• Let us assume that we want to encrypt a single alphabet F using this scheme, and with B’s public \n",
      "key as 77 (known to A and B) and B’s private key (known only to B) as 5. \n",
      "• Then the description is as follows\n",
      "MKK\n",
      "MKK\n",
      "SYMMETRIC- AND ASYMMETRIC-KEY CRYPTOGRAPHY\n",
      "• Comparison Between Symmetric- and Asymmetric-Key Cryptography\n",
      "MKK\n",
      "The Best of Both Worlds\n",
      "How economic it would be, if we can combine the two cryptography mechanisms, so as to achieve\n",
      "the better of the two, and yet do not compromise on any of the features! More specifically, we need \n",
      "to ensure that the following objectives are met:\n",
      "1. The solution should be completely secure.\n",
      "2. The encryption and decryption processes must not take a long time.\n",
      "3. The generated cipher text should be compact in size.\n",
      "4. The solution should scale to a large number of users easily, without introducing any additional\n",
      "complications.\n",
      "5. The key-distribution problem must be solved by the solution.\n",
      "MKK\n",
      "Digital Signatures \n",
      "• Digital signatures are the public-key primitives of message authentication. Digital signature is a \n",
      "technique that binds a person/entity to the digital data.\n",
      "• As we know in asymmetric-key cryptography:\n",
      "– “If A is the sender of a message and B is the receiver, A encrypts the message with B’s public key and sends the \n",
      "encrypted message to B.”\n",
      "• Let us now consider another scheme, as follows: \n",
      "– If A is the sender of a message and B is the receiver, A encrypts the message with A’s private key and sends the \n",
      "encrypted message to B.\n",
      "MKK\n",
      "• Here B use A’s public key to decrypt it, and therefore, access the plain text. \n",
      "• If the decryption is successful, it assures B that this message was indeed sent by A. This is because if \n",
      "B can decrypt a message with A’s public key, it means that the message must have been initially \n",
      "encrypted with A’s private key\n",
      "• Therefore, someone posing as A (say C) could not have sent a message encrypted with A’s private \n",
      "key to B.\n",
      "• Moreover, in the case of a dispute of non-repudiation\n",
      "MKK\n",
      "• Digital signatures have assumed great significance in the modern world of Web commerce. \n",
      "• Most countries have already made provisions for recognizing a digital signature as a valid \n",
      "authorization mechanism, just like paper-based signatures. \n",
      "• Digital signatures have legal status now. \n",
      "– For example, suppose you send a message to your bank over the Internet, to transfer some amount from \n",
      "your account to your friend’s account, and digitally sign the message, this transaction has the same status \n",
      "as the one wherein you fill in and sign the bank’s paper-based money-transfer slip.\n",
      "MKK\n",
      "KNAPSACK ALGORITHM\n",
      "• Actually, Ralph Merkle and Martin Hellman developed the first algorithm for public-key encryption, \n",
      "called the Knapsack algorithm. It is based on the Knapsack problem. \n",
      "• This is actually a simple problem.\n",
      "• Given a pile of items, each with different weights, is it possible to put some of them in a bag (i.e. \n",
      "knapsack) in such a way that the knapsack has a certain weight?\n",
      "That is, if M1, M2, …, Mn are the given values and S is the sum, \n",
      " find out bi so that:\n",
      "S = b1M1 + b2M2 + … + bnMn\n",
      "• Each bi can be 0 or 1. A 1 indicates that the item is in the knapsack, and a 0 indicates that it is not.\n",
      "• A block of plain text equal in length to the number of items in the pile would select the items in the \n",
      "knapsack. The cipher text is the resulting sum. \n",
      "• For example, if the knapsack is 1, 7, 8, 12, 14, 20 then the plain text and the resulting cipher text is \n",
      "as shown below\n",
      "MKK\n",
      "Knapsack example\n",
      "MKK\n",
      "SOME OTHER ALGORITHMS\n",
      "Elgamal digital signature\n",
      "• The ElGamal digital-signature scheme uses the same keys, but a different algorithm. \n",
      "• The algorithm creates two digital signatures. \n",
      "• In the verification step, these two signatures are tallied. \n",
      "• The key-generation process here is the same as earlier and hence we would not repeat the discussion. The \n",
      "public key remains (E1, E2, P) and the private key continues to be D. \n",
      "Signature\n",
      "• The signature process works as follows:\n",
      "1. The sender selects a random number R.\n",
      "2. The sender computes the first signature S1 using the equation S1 = E1R mod P.\n",
      "3. The sender computes the second signature S2 using the equation S2 = (M – D * S1) * R–1 \n",
      "mod (P – 1), where M is the original message that needs to be signed.\n",
      "4. The sender sends M, S1, and S2 to the receiver.\n",
      "For example, \n",
      "let E1 = 10, E2 = 4, P = 19, M = 14, D = 16, and R = 5.\n",
      "Then we have:\n",
      "Hence, the signature is (S1, S2) i.e. (3, 4). This is sent to the receiver.\n",
      "MKK\n",
      "Verification\n",
      "• The verification process works as follows:\n",
      "• 1. The receiver performs the first part of verification called V1 using the equation V1 = E1M mod P.\n",
      "• 2. The receiver performs the second part of verification called as V2 using the equation V2 = E2S1 * \n",
      "S1S2 mod P.\n",
      "In our example:\n",
      "• Since V1 = V2, the signature is considered valid.\n",
      "MKK\n",
      "Attacks on digital signatures\n",
      "In general, three types of attacks are attempted against digital signatures, as outlined below:\n",
      "1. Chosen-message Attack\n",
      "In the chosen-message attack, the attacker tricks a genuine user into digitally signing messages that\n",
      "the user does not normally intend to sign.\n",
      "2. Known-message Attack\n",
      "In the known-message attack, the attacker obtains the previous few messages and the corresponding\n",
      "digital signatures from a genuine user.\n",
      "3. Key-only Attack\n",
      "In the key-only attack, the assumption is that some information was made public by a genuine user.\n",
      "This attacker now tries to misuse this public information.\n",
      "MKK\n",
      "You are an expert MCQ maker. Given the above text, it is your job to create a quiz  of 5 multiple choice questions for Machine Learning students in simple tone. \n",
      "Make sure the questions are not repeated and check all the questions to be conforming the text as well.\n",
      "Make sure to format your response like  RESPONSE_JSON below  and use it as a guide. Ensure to make 5 MCQs\n",
      "### RESPONSE_JSON\n",
      "{\"1\": {\"mcq\": \"multiple choice question\", \"options\": {\"a\": \"choice here\", \"b\": \"choice here\", \"c\": \"choice here\", \"d\": \"choice here\"}, \"correct\": \"correct answer\"}, \"2\": {\"mcq\": \"multiple choice question\", \"options\": {\"a\": \"choice here\", \"b\": \"choice here\", \"c\": \"choice here\", \"d\": \"choice here\"}, \"correct\": \"correct answer\"}, \"3\": {\"mcq\": \"multiple choice question\", \"options\": {\"a\": \"choice here\", \"b\": \"choice here\", \"c\": \"choice here\", \"d\": \"choice here\"}, \"correct\": \"correct answer\"}}\n",
      "\n",
      "\u001b[0m\n",
      "\n",
      "\u001b[1m> Finished chain.\u001b[0m\n",
      "\n",
      "\n",
      "\u001b[1m> Entering new LLMChain chain...\u001b[0m\n",
      "Prompt after formatting:\n",
      "\u001b[32;1m\u001b[1;3m\n",
      "You are an expert english grammarian and writer. Given a Multiple Choice Quiz for Machine Learning students.You need to evaluate the complexity of the question and give a complete analysis of the quiz. Only use at max 50 words for complexity analysis. \n",
      "if the quiz is not at per with the cognitive and analytical abilities of the students,update the quiz questions which needs to be changed and change the tone such that it perfectly fits the student abilities\n",
      "Quiz_MCQs:\n",
      "{\n",
      "\"1\": {\n",
      "\"mcq\": \"What is the main disadvantage of symmetric-key cryptography?\",\n",
      "\"options\": {\n",
      "\"a\": \"Key exchange problem\",\n",
      "\"b\": \"Slow encryption process\",\n",
      "\"c\": \"Inefficient decryption process\",\n",
      "\"d\": \"Limited security features\"\n",
      "},\n",
      "\"correct\": \"a\"\n",
      "},\n",
      "\"2\": {\n",
      "\"mcq\": \"Who are considered the fathers of asymmetric-key cryptography?\",\n",
      "\"options\": {\n",
      "\"a\": \"Whitfield Diffie and Martin Hellman\",\n",
      "\"b\": \"Ron Rivest, Adi Shamir, and Len Adleman\",\n",
      "\"c\": \"James Ellis and Ralph Merkle\",\n",
      "\"d\": \"NSA and CSEG\"\n",
      "},\n",
      "\"correct\": \"a\"\n",
      "},\n",
      "\"3\": {\n",
      "\"mcq\": \"What is the main advantage of asymmetric-key cryptography?\",\n",
      "\"options\": {\n",
      "\"a\": \"Fast and efficient encryption process\",\n",
      "\"b\": \"Easy key exchange\",\n",
      "\"c\": \"Use of the same key for encryption and decryption\",\n",
      "\"d\": \"Secure communication without sharing private key\"\n",
      "},\n",
      "\"correct\": \"d\"\n",
      "},\n",
      "\"4\": {\n",
      "\"mcq\": \"Which algorithm is based on the mathematical fact of multiplying large prime numbers together?\",\n",
      "\"options\": {\n",
      "\"a\": \"Knapsack algorithm\",\n",
      "\"b\": \"RSA algorithm\",\n",
      "\"c\": \"ElGamal digital signature\",\n",
      "\"d\": \"Diffie-Hellman key exchange\"\n",
      "},\n",
      "\"correct\": \"b\"\n",
      "},\n",
      "\"5\": {\n",
      "\"mcq\": \"What type of attack involves an attacker tricking a genuine user into signing messages they do not intend to sign?\",\n",
      "\"options\": {\n",
      "\"a\": \"Chosen-message Attack\",\n",
      "\"b\": \"Known-message Attack\",\n",
      "\"c\": \"Key-only Attack\",\n",
      "\"d\": \"Public-key Attack\"\n",
      "},\n",
      "\"correct\": \"a\"\n",
      "}\n",
      "}\n",
      "\n",
      "Check from an expert English Writer of the above quiz:\n",
      "\u001b[0m\n",
      "\n",
      "\u001b[1m> Finished chain.\u001b[0m\n",
      "\n",
      "\u001b[1m> Finished chain.\u001b[0m\n"
     ]
    }
   ],
   "source": [
    "#https://python.langchain.com/docs/modules/model_io/llms/token_usage_tracking\n",
    "\n",
    "#How to setup Token Usage Tracking in LangChain\n",
    "with get_openai_callback() as cb:\n",
    "    response=generate_evaluate_chain(\n",
    "        {\n",
    "            \"text\": TEXT,\n",
    "            \"number\": NUMBER,\n",
    "            \"subject\":SUBJECT,\n",
    "            \"tone\": TONE,\n",
    "            \"response_json\": json.dumps(RESPONSE_JSON)\n",
    "        }\n",
    "        )"
   ]
  },
  {
   "cell_type": "code",
   "execution_count": 59,
   "metadata": {},
   "outputs": [
    {
     "name": "stdout",
     "output_type": "stream",
     "text": [
      "Total Tokens:3829\n",
      "Prompt Tokens:3419\n",
      "Completion Tokens:410\n",
      "Total Cost(in doller):0.0059485\n"
     ]
    }
   ],
   "source": [
    "print(f\"Total Tokens:{cb.total_tokens}\")\n",
    "print(f\"Prompt Tokens:{cb.prompt_tokens}\")\n",
    "print(f\"Completion Tokens:{cb.completion_tokens}\")\n",
    "print(f\"Total Cost(in doller):{cb.total_cost}\")"
   ]
  },
  {
   "cell_type": "code",
   "execution_count": 60,
   "metadata": {},
   "outputs": [
    {
     "data": {
      "text/plain": [
       "{'text': 'MKK\\nUnit 3\\nCOMPUTER-BASED \\nASYMMETRIC-KEY CRYPTOGRAPHY \\nALGORITHMS\\nMKK\\nINTRODUCTION\\n• Symmetric-key cryptography is fast and efficient. \\n• However, it suffers from a big disadvantage of the problem of key exchange. \\n• The sender and the receiver of an encrypted message use the same key in \\nsymmetric-key cryptography, and it is very tough to agree upon a common key \\nwithout letting anyone else know about it. \\n• Asymmetric-key cryptography solves this problem. Here, each communicating party \\nuses two keys to form a key pair—one key (the private key) remains with the party, \\nand the other key (the public key) is shared with everybody.\\nMKK\\nBRIEF HISTORY OF ASYMMETRIC-KEY CRYPTOGRAPHY\\nIn the mid-1970s, Whitfield Diffie, a student at the Stanford University met with Martin Hellman,\\nhis professor, and the two began to think about the problem of key exchange. After some research\\nand complicated mathematical analysis, they came up with the idea of asymmetric-key cryptography.\\nMany experts believe that this development is the first—and perhaps the only—truly revolutionary\\nconcept in the history of cryptography. Diffie and Hellman can, therefore, be regarded as the fathers of\\nasymmetric-key cryptography\\nHowever, there is a lot of debate regarding who should get the credit for developing asymmetric-key\\ncryptography. It is believed that James Ellis of the British Communications Electronic Security Group\\n(CSEG) proposed the idea of asymmetric-key cryptography in the 1960s. His ideas were based on an\\nanonymous paper written at the Bell Labs during the Second World War. However, Ellis could not \\ndevise a practical algorithm based on his ideas.\\nSimultaneously, the US National Security Agency (NSA) was also working on asymmetric-key \\ncryptography. It is believed that the NSA system based on the asymmetric-key cryptography was \\noperational in the mid-1970s.\\nMKK\\nBased on the theoretical framework of Diffie and Hellman, in 1977, Ron Rivest, Adi Shamir and Len\\nAdleman at MIT developed the first major asymmetric-key cryptography system, and published their\\nresults in 1978. This method is called RSA algorithm.\\nEven today, RSA is the most widely accepted public-key solution. It solves the problem of key \\nagreements and distribution.\\nTo communicate securely over any network, all one needs to do is to publish one’s public key. All these\\npublic keys can then be stored in a database that anyone can consult. However, the private key only\\nremains with the respective individuals.\\nMKK\\nAN OVERVIEW OF ASYMMETRIC-KEY CRYPTOGRAPHY\\n• In asymmetric-key cryptography, also called public key cryptography, two different keys (which form \\na key pair) are used. One key is used for encryption and only the other corresponding key must be \\nused for decryption. No other key can decrypt the message—not even the original (i.e. the first) key \\nused for encryption! The beauty of this scheme is that every communicating party needs just a key \\npair for communicating with any number of other communicating parties.\\n• One of the two keys is called the public key and the other is the private key.\\n• The private key remains with you as a secret. You must not disclose your private key to anybody. \\nHowever, the public key is for the general public. It is disclosed to all parties that you want to \\ncommunicate with.\\nMKK\\n• Suppose A wants to send a message to B without having to worry about its security. \\n• Then, A and B should each have a private key and a public key.\\n● A should keep her private key secret.\\n● B should keep her private key secret.\\n● A should inform B about her public key.\\n● B should inform A about her public key.\\n• Thus, we have a matrix as shown in Fig\\n• Key details A should know B should know\\nMKK\\nArmed with this knowledge, asymmetric-key cryptography works as follows:\\n1. When A wants to send a message to B, A encrypts the message using B’s public key. This is\\npossible because A knows B’s public key.\\n2. A sends this message (which was encrypted with B’s public key) to B.\\n3. B decrypts A’s message using B’s private key.\\nThus, no one else can make any sense out of the message even if one can manage to intercept \\nthe message. This is because the intruder (ideally) does not know about B’s private key. It is only B’s \\nprivate key that can decrypt the message.\\nMKK\\nExample:\\nWe can consider a practical situation that describes asymmetric-key cryptography as used in real life.\\nSuppose a bank accepts many requests for transactions from its customers over an insecure network.\\nThe bank can have a private-key–public key pair.\\nUse of a public-key–private-key pair by a bank\\nMKK\\nThe RSA Algorithm\\nRSA algorithm is an asymmetric cryptography algorithm. Asymmetric actually means that it works on \\ntwo different keys i.e. Public Key and Private Key. As the name describes that the Public Key is given to \\neveryone and the Private key is kept private.\\n• The RSA algorithm is based on the mathematical fact that it is easy to find and multiply large prime \\nnumbers together, but it is extremely difficult to factor their product. The private and public keys in \\nRSA are based on very large (made up of 100 or more digits) prime numbers.\\n• However, the real challenge in the case of RSA is the selection and generation of the public and \\nprivate keys.\\n• Let us now understand how the public and private keys are generated, and using them, how we can \\nperform encryption and decryption in RSA.\\nMKK\\nThe RSA algorithm\\nMKK\\nExamples of RSA\\nLet us choose D as 77, because we can see \\nthat (5 * 77) mod 96 = 385 mod 96 = 1, \\nwhich satisfies our condition.\\nMKK\\n• Now, based on these values, let us consider an encryption and decryption process. \\n• Here, A is the sender and B is the receiver. As we can see, here we use an encoding scheme of \\nencoding alphabets as A = 1, B = 2, …, Z = 26. \\n• Let us assume that we want to encrypt a single alphabet F using this scheme, and with B’s public \\nkey as 77 (known to A and B) and B’s private key (known only to B) as 5. \\n• Then the description is as follows\\nMKK\\nMKK\\nSYMMETRIC- AND ASYMMETRIC-KEY CRYPTOGRAPHY\\n• Comparison Between Symmetric- and Asymmetric-Key Cryptography\\nMKK\\nThe Best of Both Worlds\\nHow economic it would be, if we can combine the two cryptography mechanisms, so as to achieve\\nthe better of the two, and yet do not compromise on any of the features! More specifically, we need \\nto ensure that the following objectives are met:\\n1. The solution should be completely secure.\\n2. The encryption and decryption processes must not take a long time.\\n3. The generated cipher text should be compact in size.\\n4. The solution should scale to a large number of users easily, without introducing any additional\\ncomplications.\\n5. The key-distribution problem must be solved by the solution.\\nMKK\\nDigital Signatures \\n• Digital signatures are the public-key primitives of message authentication. Digital signature is a \\ntechnique that binds a person/entity to the digital data.\\n• As we know in asymmetric-key cryptography:\\n– “If A is the sender of a message and B is the receiver, A encrypts the message with B’s public key and sends the \\nencrypted message to B.”\\n• Let us now consider another scheme, as follows: \\n– If A is the sender of a message and B is the receiver, A encrypts the message with A’s private key and sends the \\nencrypted message to B.\\nMKK\\n• Here B use A’s public key to decrypt it, and therefore, access the plain text. \\n• If the decryption is successful, it assures B that this message was indeed sent by A. This is because if \\nB can decrypt a message with A’s public key, it means that the message must have been initially \\nencrypted with A’s private key\\n• Therefore, someone posing as A (say C) could not have sent a message encrypted with A’s private \\nkey to B.\\n• Moreover, in the case of a dispute of non-repudiation\\nMKK\\n• Digital signatures have assumed great significance in the modern world of Web commerce. \\n• Most countries have already made provisions for recognizing a digital signature as a valid \\nauthorization mechanism, just like paper-based signatures. \\n• Digital signatures have legal status now. \\n– For example, suppose you send a message to your bank over the Internet, to transfer some amount from \\nyour account to your friend’s account, and digitally sign the message, this transaction has the same status \\nas the one wherein you fill in and sign the bank’s paper-based money-transfer slip.\\nMKK\\nKNAPSACK ALGORITHM\\n• Actually, Ralph Merkle and Martin Hellman developed the first algorithm for public-key encryption, \\ncalled the Knapsack algorithm. It is based on the Knapsack problem. \\n• This is actually a simple problem.\\n• Given a pile of items, each with different weights, is it possible to put some of them in a bag (i.e. \\nknapsack) in such a way that the knapsack has a certain weight?\\nThat is, if M1, M2, …, Mn are the given values and S is the sum, \\n find out bi so that:\\nS = b1M1 + b2M2 + … + bnMn\\n• Each bi can be 0 or 1. A 1 indicates that the item is in the knapsack, and a 0 indicates that it is not.\\n• A block of plain text equal in length to the number of items in the pile would select the items in the \\nknapsack. The cipher text is the resulting sum. \\n• For example, if the knapsack is 1, 7, 8, 12, 14, 20 then the plain text and the resulting cipher text is \\nas shown below\\nMKK\\nKnapsack example\\nMKK\\nSOME OTHER ALGORITHMS\\nElgamal digital signature\\n• The ElGamal digital-signature scheme uses the same keys, but a different algorithm. \\n• The algorithm creates two digital signatures. \\n• In the verification step, these two signatures are tallied. \\n• The key-generation process here is the same as earlier and hence we would not repeat the discussion. The \\npublic key remains (E1, E2, P) and the private key continues to be D. \\nSignature\\n• The signature process works as follows:\\n1. The sender selects a random number R.\\n2. The sender computes the first signature S1 using the equation S1 = E1R mod P.\\n3. The sender computes the second signature S2 using the equation S2 = (M – D * S1) * R–1 \\nmod (P – 1), where M is the original message that needs to be signed.\\n4. The sender sends M, S1, and S2 to the receiver.\\nFor example, \\nlet E1 = 10, E2 = 4, P = 19, M = 14, D = 16, and R = 5.\\nThen we have:\\nHence, the signature is (S1, S2) i.e. (3, 4). This is sent to the receiver.\\nMKK\\nVerification\\n• The verification process works as follows:\\n• 1. The receiver performs the first part of verification called V1 using the equation V1 = E1M mod P.\\n• 2. The receiver performs the second part of verification called as V2 using the equation V2 = E2S1 * \\nS1S2 mod P.\\nIn our example:\\n• Since V1 = V2, the signature is considered valid.\\nMKK\\nAttacks on digital signatures\\nIn general, three types of attacks are attempted against digital signatures, as outlined below:\\n1. Chosen-message Attack\\nIn the chosen-message attack, the attacker tricks a genuine user into digitally signing messages that\\nthe user does not normally intend to sign.\\n2. Known-message Attack\\nIn the known-message attack, the attacker obtains the previous few messages and the corresponding\\ndigital signatures from a genuine user.\\n3. Key-only Attack\\nIn the key-only attack, the assumption is that some information was made public by a genuine user.\\nThis attacker now tries to misuse this public information.\\nMKK',\n",
       " 'number': 5,\n",
       " 'subject': 'Machine Learning',\n",
       " 'tone': 'simple',\n",
       " 'response_json': '{\"1\": {\"mcq\": \"multiple choice question\", \"options\": {\"a\": \"choice here\", \"b\": \"choice here\", \"c\": \"choice here\", \"d\": \"choice here\"}, \"correct\": \"correct answer\"}, \"2\": {\"mcq\": \"multiple choice question\", \"options\": {\"a\": \"choice here\", \"b\": \"choice here\", \"c\": \"choice here\", \"d\": \"choice here\"}, \"correct\": \"correct answer\"}, \"3\": {\"mcq\": \"multiple choice question\", \"options\": {\"a\": \"choice here\", \"b\": \"choice here\", \"c\": \"choice here\", \"d\": \"choice here\"}, \"correct\": \"correct answer\"}}',\n",
       " 'quiz': '{\\n\"1\": {\\n\"mcq\": \"What is the main disadvantage of symmetric-key cryptography?\",\\n\"options\": {\\n\"a\": \"Key exchange problem\",\\n\"b\": \"Slow encryption process\",\\n\"c\": \"Inefficient decryption process\",\\n\"d\": \"Limited security features\"\\n},\\n\"correct\": \"a\"\\n},\\n\"2\": {\\n\"mcq\": \"Who are considered the fathers of asymmetric-key cryptography?\",\\n\"options\": {\\n\"a\": \"Whitfield Diffie and Martin Hellman\",\\n\"b\": \"Ron Rivest, Adi Shamir, and Len Adleman\",\\n\"c\": \"James Ellis and Ralph Merkle\",\\n\"d\": \"NSA and CSEG\"\\n},\\n\"correct\": \"a\"\\n},\\n\"3\": {\\n\"mcq\": \"What is the main advantage of asymmetric-key cryptography?\",\\n\"options\": {\\n\"a\": \"Fast and efficient encryption process\",\\n\"b\": \"Easy key exchange\",\\n\"c\": \"Use of the same key for encryption and decryption\",\\n\"d\": \"Secure communication without sharing private key\"\\n},\\n\"correct\": \"d\"\\n},\\n\"4\": {\\n\"mcq\": \"Which algorithm is based on the mathematical fact of multiplying large prime numbers together?\",\\n\"options\": {\\n\"a\": \"Knapsack algorithm\",\\n\"b\": \"RSA algorithm\",\\n\"c\": \"ElGamal digital signature\",\\n\"d\": \"Diffie-Hellman key exchange\"\\n},\\n\"correct\": \"b\"\\n},\\n\"5\": {\\n\"mcq\": \"What type of attack involves an attacker tricking a genuine user into signing messages they do not intend to sign?\",\\n\"options\": {\\n\"a\": \"Chosen-message Attack\",\\n\"b\": \"Known-message Attack\",\\n\"c\": \"Key-only Attack\",\\n\"d\": \"Public-key Attack\"\\n},\\n\"correct\": \"a\"\\n}\\n}',\n",
       " 'review': 'The complexity of the quiz is moderate, suitable for Machine Learning students. The questions cover key concepts in cryptography with clear options. However, the tone could be more engaging and simplified for better understanding. Consider revising the questions to be more student-friendly.'}"
      ]
     },
     "execution_count": 60,
     "metadata": {},
     "output_type": "execute_result"
    }
   ],
   "source": [
    "response"
   ]
  },
  {
   "cell_type": "code",
   "execution_count": 61,
   "metadata": {},
   "outputs": [],
   "source": [
    "quiz = response.get(\"quiz\")"
   ]
  },
  {
   "cell_type": "code",
   "execution_count": 62,
   "metadata": {},
   "outputs": [],
   "source": [
    "quiz=json.loads(quiz)"
   ]
  },
  {
   "cell_type": "code",
   "execution_count": 63,
   "metadata": {},
   "outputs": [],
   "source": [
    "quiz_table_data = []\n",
    "for key, value in quiz.items():\n",
    "    mcq = value[\"mcq\"]\n",
    "    options = \" | \".join(\n",
    "        [\n",
    "            f\"{option}: {option_value}\"\n",
    "            for option, option_value in value[\"options\"].items()\n",
    "            ]\n",
    "        )\n",
    "    correct = value[\"correct\"]\n",
    "    quiz_table_data.append({\"MCQ\": mcq, \"Choices\": options, \"Correct\": correct})"
   ]
  },
  {
   "cell_type": "code",
   "execution_count": 64,
   "metadata": {},
   "outputs": [],
   "source": [
    "quiz=pd.DataFrame(quiz_table_data)"
   ]
  },
  {
   "cell_type": "code",
   "execution_count": 65,
   "metadata": {},
   "outputs": [
    {
     "data": {
      "text/html": [
       "<div>\n",
       "<style scoped>\n",
       "    .dataframe tbody tr th:only-of-type {\n",
       "        vertical-align: middle;\n",
       "    }\n",
       "\n",
       "    .dataframe tbody tr th {\n",
       "        vertical-align: top;\n",
       "    }\n",
       "\n",
       "    .dataframe thead th {\n",
       "        text-align: right;\n",
       "    }\n",
       "</style>\n",
       "<table border=\"1\" class=\"dataframe\">\n",
       "  <thead>\n",
       "    <tr style=\"text-align: right;\">\n",
       "      <th></th>\n",
       "      <th>MCQ</th>\n",
       "      <th>Choices</th>\n",
       "      <th>Correct</th>\n",
       "    </tr>\n",
       "  </thead>\n",
       "  <tbody>\n",
       "    <tr>\n",
       "      <th>0</th>\n",
       "      <td>What is the main disadvantage of symmetric-key...</td>\n",
       "      <td>a: Key exchange problem | b: Slow encryption p...</td>\n",
       "      <td>a</td>\n",
       "    </tr>\n",
       "    <tr>\n",
       "      <th>1</th>\n",
       "      <td>Who are considered the fathers of asymmetric-k...</td>\n",
       "      <td>a: Whitfield Diffie and Martin Hellman | b: Ro...</td>\n",
       "      <td>a</td>\n",
       "    </tr>\n",
       "    <tr>\n",
       "      <th>2</th>\n",
       "      <td>What is the main advantage of asymmetric-key c...</td>\n",
       "      <td>a: Fast and efficient encryption process | b: ...</td>\n",
       "      <td>d</td>\n",
       "    </tr>\n",
       "    <tr>\n",
       "      <th>3</th>\n",
       "      <td>Which algorithm is based on the mathematical f...</td>\n",
       "      <td>a: Knapsack algorithm | b: RSA algorithm | c: ...</td>\n",
       "      <td>b</td>\n",
       "    </tr>\n",
       "    <tr>\n",
       "      <th>4</th>\n",
       "      <td>What type of attack involves an attacker trick...</td>\n",
       "      <td>a: Chosen-message Attack | b: Known-message At...</td>\n",
       "      <td>a</td>\n",
       "    </tr>\n",
       "  </tbody>\n",
       "</table>\n",
       "</div>"
      ],
      "text/plain": [
       "                                                 MCQ  \\\n",
       "0  What is the main disadvantage of symmetric-key...   \n",
       "1  Who are considered the fathers of asymmetric-k...   \n",
       "2  What is the main advantage of asymmetric-key c...   \n",
       "3  Which algorithm is based on the mathematical f...   \n",
       "4  What type of attack involves an attacker trick...   \n",
       "\n",
       "                                             Choices Correct  \n",
       "0  a: Key exchange problem | b: Slow encryption p...       a  \n",
       "1  a: Whitfield Diffie and Martin Hellman | b: Ro...       a  \n",
       "2  a: Fast and efficient encryption process | b: ...       d  \n",
       "3  a: Knapsack algorithm | b: RSA algorithm | c: ...       b  \n",
       "4  a: Chosen-message Attack | b: Known-message At...       a  "
      ]
     },
     "execution_count": 65,
     "metadata": {},
     "output_type": "execute_result"
    }
   ],
   "source": [
    "quiz"
   ]
  },
  {
   "cell_type": "code",
   "execution_count": 66,
   "metadata": {},
   "outputs": [],
   "source": [
    "quiz.to_csv(\"machinelearning.csv\",index=False)"
   ]
  },
  {
   "cell_type": "code",
   "execution_count": 67,
   "metadata": {},
   "outputs": [],
   "source": [
    "from datetime import datetime"
   ]
  },
  {
   "cell_type": "code",
   "execution_count": 68,
   "metadata": {},
   "outputs": [
    {
     "data": {
      "text/plain": [
       "'04-07-2024 18:28:51'"
      ]
     },
     "execution_count": 68,
     "metadata": {},
     "output_type": "execute_result"
    }
   ],
   "source": [
    "datetime.now().strftime(\"%m-%d-%Y %H:%M:%S\")"
   ]
  },
  {
   "cell_type": "code",
   "execution_count": null,
   "metadata": {},
   "outputs": [],
   "source": []
  },
  {
   "cell_type": "code",
   "execution_count": null,
   "metadata": {},
   "outputs": [],
   "source": []
  },
  {
   "cell_type": "code",
   "execution_count": null,
   "metadata": {},
   "outputs": [],
   "source": []
  },
  {
   "cell_type": "code",
   "execution_count": null,
   "metadata": {},
   "outputs": [],
   "source": []
  },
  {
   "cell_type": "code",
   "execution_count": null,
   "metadata": {},
   "outputs": [],
   "source": []
  },
  {
   "cell_type": "code",
   "execution_count": null,
   "metadata": {},
   "outputs": [],
   "source": []
  },
  {
   "cell_type": "code",
   "execution_count": null,
   "metadata": {},
   "outputs": [],
   "source": []
  },
  {
   "cell_type": "code",
   "execution_count": null,
   "metadata": {},
   "outputs": [],
   "source": []
  },
  {
   "cell_type": "code",
   "execution_count": null,
   "metadata": {},
   "outputs": [],
   "source": []
  },
  {
   "cell_type": "code",
   "execution_count": null,
   "metadata": {},
   "outputs": [],
   "source": []
  },
  {
   "cell_type": "code",
   "execution_count": null,
   "metadata": {},
   "outputs": [],
   "source": []
  },
  {
   "cell_type": "code",
   "execution_count": null,
   "metadata": {},
   "outputs": [],
   "source": []
  },
  {
   "cell_type": "code",
   "execution_count": null,
   "metadata": {},
   "outputs": [],
   "source": []
  },
  {
   "cell_type": "code",
   "execution_count": null,
   "metadata": {},
   "outputs": [],
   "source": []
  },
  {
   "cell_type": "code",
   "execution_count": null,
   "metadata": {},
   "outputs": [],
   "source": []
  },
  {
   "cell_type": "code",
   "execution_count": null,
   "metadata": {},
   "outputs": [],
   "source": []
  },
  {
   "cell_type": "code",
   "execution_count": null,
   "metadata": {},
   "outputs": [],
   "source": []
  },
  {
   "cell_type": "code",
   "execution_count": null,
   "metadata": {},
   "outputs": [],
   "source": []
  },
  {
   "cell_type": "code",
   "execution_count": null,
   "metadata": {},
   "outputs": [],
   "source": []
  },
  {
   "cell_type": "code",
   "execution_count": null,
   "metadata": {},
   "outputs": [],
   "source": []
  },
  {
   "cell_type": "code",
   "execution_count": null,
   "metadata": {},
   "outputs": [],
   "source": []
  },
  {
   "cell_type": "code",
   "execution_count": null,
   "metadata": {},
   "outputs": [],
   "source": []
  },
  {
   "cell_type": "code",
   "execution_count": null,
   "metadata": {},
   "outputs": [],
   "source": []
  },
  {
   "cell_type": "code",
   "execution_count": null,
   "metadata": {},
   "outputs": [],
   "source": []
  },
  {
   "cell_type": "code",
   "execution_count": null,
   "metadata": {},
   "outputs": [],
   "source": []
  },
  {
   "cell_type": "code",
   "execution_count": null,
   "metadata": {},
   "outputs": [],
   "source": []
  },
  {
   "cell_type": "code",
   "execution_count": null,
   "metadata": {},
   "outputs": [],
   "source": []
  },
  {
   "cell_type": "code",
   "execution_count": null,
   "metadata": {},
   "outputs": [],
   "source": []
  },
  {
   "cell_type": "code",
   "execution_count": null,
   "metadata": {},
   "outputs": [],
   "source": []
  },
  {
   "cell_type": "code",
   "execution_count": null,
   "metadata": {},
   "outputs": [],
   "source": []
  },
  {
   "cell_type": "code",
   "execution_count": null,
   "metadata": {},
   "outputs": [],
   "source": []
  },
  {
   "cell_type": "code",
   "execution_count": null,
   "metadata": {},
   "outputs": [],
   "source": []
  },
  {
   "cell_type": "code",
   "execution_count": null,
   "metadata": {},
   "outputs": [],
   "source": []
  },
  {
   "cell_type": "code",
   "execution_count": null,
   "metadata": {},
   "outputs": [],
   "source": []
  },
  {
   "cell_type": "code",
   "execution_count": null,
   "metadata": {},
   "outputs": [],
   "source": []
  }
 ],
 "metadata": {
  "kernelspec": {
   "display_name": "Python 3",
   "language": "python",
   "name": "python3"
  },
  "language_info": {
   "codemirror_mode": {
    "name": "ipython",
    "version": 3
   },
   "file_extension": ".py",
   "mimetype": "text/x-python",
   "name": "python",
   "nbconvert_exporter": "python",
   "pygments_lexer": "ipython3",
   "version": "3.12.2"
  }
 },
 "nbformat": 4,
 "nbformat_minor": 2
}
